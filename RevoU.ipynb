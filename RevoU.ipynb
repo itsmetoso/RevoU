{
  "nbformat": 4,
  "nbformat_minor": 0,
  "metadata": {
    "colab": {
      "name": "RevoU.ipynb",
      "provenance": [],
      "collapsed_sections": [],
      "authorship_tag": "ABX9TyOajxEgqHHbhVPjBn/IAbHg",
      "include_colab_link": true
    },
    "kernelspec": {
      "name": "python3",
      "display_name": "Python 3"
    },
    "language_info": {
      "name": "python"
    }
  },
  "cells": [
    {
      "cell_type": "markdown",
      "metadata": {
        "id": "view-in-github",
        "colab_type": "text"
      },
      "source": [
        "<a href=\"https://colab.research.google.com/github/itsmetoso/RevoU/blob/main/RevoU.ipynb\" target=\"_parent\"><img src=\"https://colab.research.google.com/assets/colab-badge.svg\" alt=\"Open In Colab\"/></a>"
      ]
    },
    {
      "cell_type": "code",
      "execution_count": 1,
      "metadata": {
        "colab": {
          "base_uri": "https://localhost:8080/"
        },
        "id": "KgMRMnfOZsJr",
        "outputId": "cbd2bcd8-2e9b-42a1-f5b0-67f1d848e080"
      },
      "outputs": [
        {
          "output_type": "stream",
          "name": "stdout",
          "text": [
            "['Apple', 'Cherry', 'Grape', 'Melon', 'Orange', 'Pear', 'Strawberry']\n",
            "['Strawberry', 'Pear', 'Orange', 'Melon', 'Grape', 'Cherry', 'Apple']\n",
            "[13.0, 100, 120.33, 500]\n",
            "[500, 120.33, 100, 13.0]\n"
          ]
        }
      ],
      "source": [
        "#\n",
        "# RevoU Mini Course: Data Analytics\n",
        "# Antonius Budi\n",
        "#\n",
        "\n",
        "# Product list\n",
        "product = [\"Apple\", \"Orange\", 100, \"Grape\", 120.33,\"Cherry\", 13.00, \"Pear\", 500, \"Melon\", \"Strawberry\"]\n",
        "\n",
        "# A. nnew list number of product'\n",
        "# Return the item if it is  int or float\n",
        "new_list_num = [x for x in product if isinstance(x, (int, float))]\n",
        "\n",
        "# A. new list string of product\n",
        "# Return the item if it is string\n",
        "new_list_str = [x for x in product if isinstance(x, str)]\n",
        "\n",
        "# B. Sort  the string list in ascending order\n",
        "new_list_str.sort()\n",
        "# Print the result\n",
        "print (new_list_str)\n",
        "\n",
        "# C. Sort  the string list in desceding order\n",
        "new_list_str.sort(reverse=True)\n",
        "# Print the result \n",
        "print(new_list_str)\n",
        "\n",
        "#D. Sort the number list from lowest to highest\n",
        "new_list_num.sort()\n",
        "# Print the result\n",
        "print (new_list_num)\n",
        "\n",
        "#E. Sort the number list from highest to lowest\n",
        "new_list_num.sort(reverse=True)\n",
        "# Print the result\n",
        "print (new_list_num)\n",
        "\n",
        "\n",
        "\n"
      ]
    }
  ]
}